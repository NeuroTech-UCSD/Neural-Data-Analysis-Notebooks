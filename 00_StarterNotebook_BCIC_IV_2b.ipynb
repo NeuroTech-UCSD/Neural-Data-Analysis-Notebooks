{
 "cells": [
  {
   "cell_type": "markdown",
   "metadata": {},
   "source": [
    "# Starter Notebook: BCI Competition IV 2b\n",
    "In 2008, a BCI Competition was held on EEG datasets to find the best ML and statistical algorithms to differentiate different classes of neural data. The BCI Competition IV 2b is a motor imagery dataset with eye artifact data, making it a very realistic dataset. The subjects are prompted to imagine left vs right hand movement and the EEG + EOG signals for each trial are collected. We here have provided a simpler version of the dataset in CSV format for you to get started with. \n",
    "\n",
    "This notebook will help you get oriented with processing a single subject's single run, looking at the time and frequency domain in Power Spectral Densities (PSDs). Due to the nature of EEG and it's time-varying properties (i.e. gel dries out, wires move around) and subject-varying properties (i.e. different headset setups, different head and brain folds), it is typically easier to understand a dataset in smaller timeframes, hence starting with a single run. Machine learning + data science methods are typically used to help understand neural data across recordings and subjects. \n",
    "\n",
    "Terminology: <br>\n",
    "- <b>Electroencepholography (EEG)</b>: an electrophysiological monitoring method to record electrical activity of the brain. (Wikipedia) \n",
    "- <b>Electrooculography (EOG)</b>: Similar to EEG, but placed around the eyes for the purposes of picking up eye movements and blinks. \n",
    "- <b>Power Spectral Densities (PSDs)</b>: A representation of the \"amount\" of each frequency a signal has.  \n",
    "- <b>Spectrogram</b>: a visual representation of the spectrum of frequencies of a signal as it varies with time. (Wikipedia)\n",
    "\n",
    "More details on the experiment can be found here: http://www.bbci.de/competition/iv/desc_2b.pdf \n",
    "<br><br>\n",
    "Search the page for 'Try' to see what you can easily play around with to get a better sense of the data!"
   ]
  },
  {
   "cell_type": "markdown",
   "metadata": {},
   "source": [
    "## Imports"
   ]
  },
  {
   "cell_type": "code",
   "execution_count": null,
   "metadata": {},
   "outputs": [],
   "source": [
    "import pandas as pd # For working with DataFrames \n",
    "import numpy as np # For ease of array manipulation + basic stats\n",
    "import matplotlib.pyplot as plt # For plotting pretty plots :) \n",
    "import scipy.signal as signal # For calculating PSDs and plotting spectrograms\n",
    "from neurodsp.spectral import compute_spectrum # for smoothed PSD computation\n",
    "from pathlib import Path # For making paths compatible on Windows and Macs\n"
   ]
  },
  {
   "cell_type": "markdown",
   "metadata": {},
   "source": [
    "## Constants"
   ]
  },
  {
   "cell_type": "code",
   "execution_count": null,
   "metadata": {},
   "outputs": [],
   "source": [
    "eeg_fs = 250 # Data was recorded at 250 Hz"
   ]
  },
  {
   "cell_type": "markdown",
   "metadata": {},
   "source": [
    "## Helper Functions"
   ]
  },
  {
   "cell_type": "code",
   "execution_count": null,
   "metadata": {},
   "outputs": [],
   "source": [
    "## Create DF for each of these, columns are channels, each row is a trial run\n",
    "def getDF(epochs, labels, times, chans):\n",
    "    data_dict = {}\n",
    "    for i, label in enumerate(labels): \n",
    "        start_time = times[i][0]\n",
    "        if 'start_time' not in data_dict: \n",
    "            data_dict['start_time'] = list()\n",
    "        data_dict['start_time'].append(start_time)\n",
    "        \n",
    "        if 'event_type' not in data_dict:\n",
    "            data_dict['event_type'] = list()\n",
    "        data_dict['event_type'].append(label)\n",
    "        \n",
    "        for ch in range(len(chans)): \n",
    "            if chans[ch] not in data_dict:\n",
    "                data_dict[chans[ch]] = list() \n",
    "            data_dict[chans[ch]].append(epochs[i][ch])\n",
    "        \n",
    "    return pd.DataFrame(data_dict)"
   ]
  },
  {
   "cell_type": "code",
   "execution_count": null,
   "metadata": {},
   "outputs": [],
   "source": [
    "# Extract data from raw dataframes for constructing trial-by-trial dataframe\n",
    "def getEpochedDF(eeg_df, event_df, trial_duration_ms=4000):\n",
    "    epochs = []\n",
    "    epoch_times = []\n",
    "    labels = []\n",
    "    start_df = eeg_df[eeg_df['EventStart'] == 1]\n",
    "    for i, event_type in enumerate(event_df[\"EventType\"].values): \n",
    "        labels.append(event_type)\n",
    "        start_time = start_df.iloc[i][\"time\"]\n",
    "        end_time = int(start_time + trial_duration_ms)\n",
    "        epoch_times.append((start_time, end_time))\n",
    "        sub_df = eeg_df[(eeg_df['time'] > start_time) & (eeg_df['time'] <= end_time)]\n",
    "        eeg_dat = []\n",
    "        for ch in all_chans: \n",
    "            eeg_dat.append(sub_df[ch].values)\n",
    "        epochs.append(np.array(eeg_dat))\n",
    "\n",
    "    # Create dataframe from the data extracted previously\n",
    "    eeg_epoch_df = getDF(epochs, labels, epoch_times, all_chans)\n",
    "    return eeg_epoch_df"
   ]
  },
  {
   "cell_type": "code",
   "execution_count": null,
   "metadata": {},
   "outputs": [],
   "source": [
    "# PSD plotting\n",
    "def plotPSD(freq, psd, fs=eeg_fs, pre_cut_off_freq=0, post_cut_off_freq=120, label=None):\n",
    "    '''\n",
    "    Inputs \n",
    "    - freq: the list of frequencies corresponding to the PSDs\n",
    "    - psd: the list of psds that represent the power of each frequency\n",
    "    - pre_cut_off_freq: the lowerbound of the frequencies to show\n",
    "    - post_cut_off_freq: the upperbound of the frequencies to show\n",
    "    - label: a text label to assign this plot (in case multiple plots want to be drawn)\n",
    "    \n",
    "    Outputs: \n",
    "    - None, except a plot will appear. plot.show() is not called at the end, so you can call this again to plot on the same axes. \n",
    "    '''\n",
    "    # Label the axes\n",
    "    plt.xlabel('Frequency (Hz)')\n",
    "    plt.ylabel('log(PSD)')\n",
    "    \n",
    "    # Calculate the frequency point that corresponds with the desired cut off frequencies\n",
    "    pre_cut = int(len(freq)*(pre_cut_off_freq / freq[-1]))\n",
    "    post_cut = int(len(freq)*(post_cut_off_freq / freq[-1]))\n",
    "    \n",
    "    # Plot\n",
    "    plt.plot(freq[pre_cut:post_cut], np.log(psd[pre_cut:post_cut]), label=label)\n",
    "\n",
    "# Get Frequencies and PSDs from EEG data - this is the raw PSD method. \n",
    "def getFreqPSDFromEEG(eeg_data, fs=eeg_fs):\n",
    "    # Use scipy's signal.periodogram to do the conversion to PSDs\n",
    "    freq, psd = signal.periodogram(eeg_data, fs=int(fs), scaling='spectrum')\n",
    "    return freq, psd\n",
    "\n",
    "# Get Frequencies and mean PSDs from EEG data - this yeilds smoother PSDs because it averages the PSDs made from sliding windows. \n",
    "def getMeanFreqPSD(eeg_data, fs=eeg_fs):\n",
    "    freq_mean, psd_mean = compute_spectrum(eeg_data, fs, method='welch', avg_type='mean', nperseg=fs*2)\n",
    "    return freq_mean, psd_mean\n",
    "\n",
    "# Plot PSD from EEG data (combines the a PSD calculator function and the plotting function)\n",
    "def plotPSD_fromEEG(eeg_data, fs=eeg_fs, pre_cut_off_freq=0, post_cut_off_freq=120, label=None):\n",
    "    freq, psd = getMeanFreqPSD(eeg_data, fs=fs)\n",
    "    plotPSD(freq, psd, fs, pre_cut_off_freq, post_cut_off_freq, label)"
   ]
  },
  {
   "cell_type": "code",
   "execution_count": null,
   "metadata": {},
   "outputs": [],
   "source": [
    "# Spectrogram plotting\n",
    "def plotSpectrogram_fromEEG(eeg_data, fs=eeg_fs, pre_cut_off_freq=0, post_cut_off_freq=120):\n",
    "    f, t, Sxx = signal.spectrogram(eeg_data, fs=fs)\n",
    "    # Calculate the frequency point that corresponds with the desired cut off frequencies\n",
    "    pre_cut = int(len(f)*(pre_cut_off_freq / f[-1]))\n",
    "    post_cut = int(len(f)*(post_cut_off_freq / f[-1]))\n",
    "    plt.pcolormesh(t, f[pre_cut:post_cut], Sxx[pre_cut:post_cut], shading='gouraud')\n",
    "    plt.ylabel(\"Frequency (Hz)\")\n",
    "    plt.xlabel(\"Time (sec)\")"
   ]
  },
  {
   "cell_type": "markdown",
   "metadata": {},
   "source": [
    "## Load raw data"
   ]
  },
  {
   "cell_type": "code",
   "execution_count": null,
   "metadata": {},
   "outputs": [],
   "source": [
    "# Load a subject's data \n",
    "filename = \"B0101T\"\n",
    "eeg_filename = Path(\"./data/train/\" + filename + \".csv\")\n",
    "event_filename = Path(\"./data/y_train_only/\" + filename + \".csv\")\n",
    "\n",
    "eeg_chans = [\"C3\", \"Cz\", \"C4\"] # 10-20 system \n",
    "eog_chans = [\"EOG:ch01\", \"EOG:ch02\", \"EOG:ch03\"] \n",
    "all_chans = eeg_chans + eog_chans\n",
    "event_types = {0:\"left\", 1:\"right\"}\n",
    "\n",
    "# Load the raw csvs into dataframes\n",
    "eeg_df = pd.read_csv(eeg_filename)\n",
    "event_df = pd.read_csv(event_filename)\n",
    "\n",
    "print(\"recording length:\", eeg_df[\"time\"].values[-1] / 1000 / 60, \"min\")"
   ]
  },
  {
   "cell_type": "code",
   "execution_count": null,
   "metadata": {},
   "outputs": [],
   "source": [
    "len(event_df) # Number of trials in this subject's data"
   ]
  },
  {
   "cell_type": "markdown",
   "metadata": {},
   "source": [
    "## Raw Data Explanation: \n",
    "The time column is in ms, since we're sampling at 250Hz, each recording comes in at 4ms intervals. C3, Cz, and C4 are electrode recordings in microVolts (uV) from the 10-20 EEG system. EOG:ch01 ... EOG:ch03 are the EOG channels as specifed in the dataset. EventStart shows whether a timepoint corresponds to the start of a trial. To know which event was started (left or right), we look int the EventType DataFrame for the corresponding nth start trial type. For example, the first EventStart == 1 will the value in the first row of EventType according to the first row in the event_type DataFrame. "
   ]
  },
  {
   "cell_type": "code",
   "execution_count": null,
   "metadata": {},
   "outputs": [],
   "source": [
    "eeg_df.head(2) "
   ]
  },
  {
   "cell_type": "code",
   "execution_count": null,
   "metadata": {},
   "outputs": [],
   "source": [
    "event_df.head(2)"
   ]
  },
  {
   "cell_type": "markdown",
   "metadata": {},
   "source": [
    "## View continuous EEG + EOG data by timepoint\n",
    "With all the data loaded in, we can explore the entire recording We can see how EOG channels fluctuate much more than EEG channels during noise. Some of this won't look like brain data, in which case it is most likely a blink or some other muscle artifact. \n",
    "\n",
    "- <b>Try plotting the other EEG and EOG channels!</b><br>\n",
    "- <b>Try plotting different timepoint windows!</b>"
   ]
  },
  {
   "cell_type": "code",
   "execution_count": null,
   "metadata": {},
   "outputs": [],
   "source": [
    "# Try adjust these variables to see different time ranges! \n",
    "# A single trial is 4 seconds or 1000 timpoints (4 ms per timepoint)\n",
    "# Hint: refer to the Epoched data dataframe for the time of each trial\n",
    "start_time_ms = 223556 # Start time in millis\n",
    "start_time_timepoints = start_time_ms // 4 # Divide by 4 to get into timepoints\n",
    "end_time_timepoints = start_time_timepoints + 1000 # Specify number of more timepoints we want past start\n",
    "\n",
    "# Plot a single EEG channel\n",
    "plt.figure(figsize=(15,5))\n",
    "plt.plot(eeg_df['C3'].values[start_time_timepoints:end_time_timepoints])\n",
    "plt.title(\"C3 -- \" + str(start_time_timepoints) + \" to \" + str(end_time_timepoints))\n",
    "plt.xlabel(\"timepoints\")\n",
    "plt.ylabel(\"Voltage (uV)\")\n",
    "plt.show()\n",
    "\n",
    "# Plot a single EOG channel\n",
    "plt.figure(figsize=(15,5))\n",
    "plt.plot(eeg_df['EOG:ch01'].values[start_time_timepoints:end_time_timepoints])\n",
    "plt.title(\"EOG:ch01 -- \" + str(start_time_timepoints) + \" to \" + str(end_time_timepoints))\n",
    "plt.xlabel(\"timepoints\")\n",
    "plt.ylabel(\"Voltage (uV)\")\n",
    "plt.show()\n",
    "\n",
    "# Plot the PSD of the single EEG channel\n",
    "plt.figure(figsize=(15,5))\n",
    "plotPSD_fromEEG(eeg_df['C3'].values[start_time_timepoints:end_time_timepoints], pre_cut_off_freq=2, post_cut_off_freq=30,label=\"C3\")\n",
    "plt.title(\"PSD of C3 in the timespan provided\")\n",
    "plt.legend()\n",
    "plt.show()\n",
    "\n",
    "# Plot the spectrogram of the single EEG channel\n",
    "plt.figure(figsize=(15,5))\n",
    "plotSpectrogram_fromEEG(eeg_df['C3'].values[start_time_timepoints:end_time_timepoints], pre_cut_off_freq=2, post_cut_off_freq=30)\n",
    "plt.title(\"Spectrogram of C3 in the timespan provided\")\n",
    "plt.show()"
   ]
  },
  {
   "cell_type": "markdown",
   "metadata": {},
   "source": [
    "## Epoch the data \n",
    "i.e. Group the time series it such that each row is a trial. We can see how each row contains 4 seconds of EEG or EOG data for each channel. "
   ]
  },
  {
   "cell_type": "code",
   "execution_count": null,
   "metadata": {},
   "outputs": [],
   "source": [
    "# Try epoching at different lengths! (4000ms is default by experiment setup)\n",
    "eeg_epoch_df = getEpochedDF(eeg_df, event_df, trial_duration_ms=4000) \n",
    "\n",
    "# Preview dataframe of trials\n",
    "# start_time denotes the ms since the start of the recording when this trial or epoch started.\n",
    "eeg_epoch_df.head(2)"
   ]
  },
  {
   "cell_type": "code",
   "execution_count": null,
   "metadata": {},
   "outputs": [],
   "source": [
    "# We've already epoched all the data into 4000ms trials for you in epoched_train.pkl and epoched_test.pkl :) \n",
    "# These are the epochs that will be used in accuracy evaluation\n",
    "epoch_df_filename = Path(\"./data/epoched_train.pkl\")\n",
    "eeg_epoch_full_df = pd.read_pickle(epoch_df_filename)\n",
    "eeg_epoch_full_df.head(2)"
   ]
  },
  {
   "cell_type": "markdown",
   "metadata": {},
   "source": [
    "## Visualizing EEG, EOG, and PSD data of Epoched data\n",
    "Note that EEG data has smaller amplitude than EOG data. This is because the electrical activity caused by eye movements is much greater than those of more purely the brain signals. You can still sometimes see eye artifacts in EEG data, but the affect is smaller due to the electrode's distance from the eyes. \n",
    "\n",
    "Note that the PSD for a single 4 second trial is incredibly noisy. Most EEG research requires that we average PSDs across trials to be able to see the \"delta\" \"theta\" \"alpha\" \"beta\" \"gamma\" bands we normally hear about. The y-axis of the PSD graph is logged because there is usually a lot more low frequency noise, so scaling the graph this way helps with the visual. "
   ]
  },
  {
   "cell_type": "code",
   "execution_count": null,
   "metadata": {},
   "outputs": [],
   "source": [
    "# Visualize EEG and PSD for one trial\n",
    "# Try changing trial_num to view different trials!\n",
    "trial_num = 0\n",
    "\n",
    "plt.figure(figsize=(15,5))\n",
    "for ch in eeg_chans: \n",
    "    plt.plot(eeg_epoch_full_df[ch][trial_num], label=ch)\n",
    "plt.ylabel(\"Voltage (uV)\")\n",
    "plt.xlabel(\"timepoints @ 250Hz\")\n",
    "plt.title(\"EEG of one motor imagery trial\")\n",
    "plt.legend() \n",
    "plt.show()\n",
    "\n",
    "plt.figure(figsize=(15,5))\n",
    "for ch in eog_chans: \n",
    "    plt.plot(eeg_epoch_full_df[ch][trial_num], label=ch)\n",
    "plt.ylabel(\"Voltage (uV)\")\n",
    "plt.xlabel(\"timepoints @ 250Hz\")\n",
    "plt.title(\"EOG of one motor imagery trial\")\n",
    "plt.legend() \n",
    "plt.show()\n",
    "\n",
    "plt.figure(figsize=(15,5))\n",
    "for ch in eeg_chans: \n",
    "    plotPSD_fromEEG(eeg_epoch_full_df[ch][trial_num], pre_cut_off_freq=2, post_cut_off_freq=30, label=ch)\n",
    "plt.title(\"PSD of EEG in one motor imagery trial\")\n",
    "plt.legend()\n",
    "plt.show()\n"
   ]
  },
  {
   "cell_type": "markdown",
   "metadata": {},
   "source": [
    "## Average PSD data in all training data\n",
    "Let's average the PSDs in all the training data. We can see that there are more apparent differences between the different electrode's PSDs between the two classes. In particular, we can see how the relative PSDs of C3 and C4 channels vary between the two classes. In neuroscience literature, it is well documented that the alpha range power decreases on the opposite (i.e. contralateral) hemisphere when a hand or motor imagery on one side is performed. More on Mu Waves: https://en.wikipedia.org/wiki/Mu_wave. However, you may notice that the exact phenomena doesn't show up in all subjects. This is due to the noisy nature of EEG, brain folds, and subject performance. "
   ]
  },
  {
   "cell_type": "code",
   "execution_count": null,
   "metadata": {},
   "outputs": [],
   "source": [
    "# Get PSD averages for each channel for each event type (0=left or 1=right)\n",
    "psd_averages_by_type = {}\n",
    "\n",
    "for event_type in event_types.keys(): \n",
    "    psds_only_one_type={}\n",
    "    freqs_only_one_type={}\n",
    "    for i, row in eeg_epoch_full_df[eeg_epoch_full_df[\"event_type\"] == event_type].iterrows(): \n",
    "        for ch in eeg_chans: \n",
    "            if ch not in psds_only_one_type: \n",
    "                psds_only_one_type[ch] = list()\n",
    "                freqs_only_one_type[ch] = list()\n",
    "            f, p = getMeanFreqPSD(row[ch])\n",
    "            psds_only_one_type[ch].append(p)\n",
    "            freqs_only_one_type[ch].append(f)\n",
    "    avg_psds_one_type = {}\n",
    "    for ch in eeg_chans:\n",
    "        psds_only_one_type[ch] = np.array(psds_only_one_type[ch])\n",
    "        avg_psds_one_type[ch] = np.mean(psds_only_one_type[ch], axis=0)\n",
    "    psd_averages_by_type[event_type] = dict(avg_psds_one_type)"
   ]
  },
  {
   "cell_type": "code",
   "execution_count": null,
   "metadata": {},
   "outputs": [],
   "source": [
    "# View Average PSDs\n",
    "for event_type in event_types.keys(): \n",
    "    for ch in eeg_chans[:]: \n",
    "        plotPSD(freqs_only_one_type[eeg_chans[0]][0], psd_averages_by_type[event_type][ch],pre_cut_off_freq=2, post_cut_off_freq=30, label=ch)\n",
    "\n",
    "    plt.legend()\n",
    "    plt.title(\"event type: \" + event_types[event_type])\n",
    "    plt.show()"
   ]
  },
  {
   "cell_type": "markdown",
   "metadata": {},
   "source": [
    "## Some stats on the EEG data on a single session"
   ]
  },
  {
   "cell_type": "markdown",
   "metadata": {},
   "source": [
    "### Mean voltage for 3 channels: \n",
    "As you can see, the mean voltage is very close to zero. This is because filtering the signal between 0.5Hz and 100Hz removes most of the slow fluctuations away from zero."
   ]
  },
  {
   "cell_type": "code",
   "execution_count": null,
   "metadata": {},
   "outputs": [],
   "source": [
    "print('C3: ' + str(eeg_df['C3'].mean()) + \" uV\")\n",
    "print('Cz: ' + str(eeg_df['Cz'].mean()) + \" uV\")\n",
    "print('C4: ' + str(eeg_df['C4'].mean()) + \" uV\")"
   ]
  },
  {
   "cell_type": "markdown",
   "metadata": {},
   "source": [
    "### Standard deviation for 3 channels:\n",
    "Standard deviation is not huge but still significantly larger than mean."
   ]
  },
  {
   "cell_type": "code",
   "execution_count": null,
   "metadata": {},
   "outputs": [],
   "source": [
    "print('C3: ' + str(eeg_df['C3'].std()) + \" uV\")\n",
    "print('Cz: ' + str(eeg_df['Cz'].std()) + \" uV\")\n",
    "print('C4: ' + str(eeg_df['C4'].std()) + \" uV\")"
   ]
  },
  {
   "cell_type": "markdown",
   "metadata": {},
   "source": [
    "### Range for 3 channels: \n",
    "Range is fairly large!"
   ]
  },
  {
   "cell_type": "code",
   "execution_count": null,
   "metadata": {},
   "outputs": [],
   "source": [
    "print('C3: ' + str(max(eeg_df['C3']) - min(eeg_df['C3'])) + \" uV\")\n",
    "print('Cz: ' + str(max(eeg_df['Cz']) - min(eeg_df['Cz'])) + \" uV\")\n",
    "print('C4: ' + str(max(eeg_df['C4']) - min(eeg_df['C4'])) + \" uV\")"
   ]
  },
  {
   "cell_type": "markdown",
   "metadata": {},
   "source": [
    "## Some stats on the EOG data\n",
    "*Left as an exercise to you!* :D"
   ]
  },
  {
   "cell_type": "code",
   "execution_count": null,
   "metadata": {},
   "outputs": [],
   "source": [
    "# Try calculating more stats! "
   ]
  }
 ],
 "metadata": {
  "kernelspec": {
   "display_name": "Python 3",
   "language": "python",
   "name": "python3"
  },
  "language_info": {
   "codemirror_mode": {
    "name": "ipython",
    "version": 3
   },
   "file_extension": ".py",
   "mimetype": "text/x-python",
   "name": "python",
   "nbconvert_exporter": "python",
   "pygments_lexer": "ipython3",
   "version": "3.6.8"
  }
 },
 "nbformat": 4,
 "nbformat_minor": 2
}
