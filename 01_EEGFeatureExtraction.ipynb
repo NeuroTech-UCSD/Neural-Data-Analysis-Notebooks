{
 "cells": [
  {
   "cell_type": "markdown",
   "metadata": {},
   "source": [
    "# EEG Feature Extraction 1: Frequency and Time Domain Features\n",
    "In 2008, a BCI Competition was held on EEG datasets to find the best ML and statistical algorithms to differentiate different classes of neural data. The BCI Competition IV 2b is a motor imagery dataset with eye artifact data, making it a very realistic dataset. The subjects are prompted to imagine left vs right hand movement and the EEG + EOG signals for each trial are collected. We here have provided a simpler version of the dataset in CSV format for you to get started with. \n",
    "\n",
    "This notebook will help you get a better understanding of the techniques used to preprocess and extract features from EEG data. These features can then be used to help inform machine learning models how to classify different categories of data. \n",
    "\n",
    "Terminology: <br> \n",
    "- <b>Feature Extraction</b>: Ways of representing cleaned data in a succinct way for models to learn. \n",
    "- More terms defined in each feature extraction section\n",
    "\n",
    "Experiment Setup: http://www.bbci.de/competition/iv/desc_2b.pdf <br>\n",
    "General Overview of Feature Extraction for Motor Imagery: https://ieeexplore.ieee.org/abstract/document/8250265 <br>\n",
    "PyEEG: http://pyeeg.sourceforge.net/ <br>\n",
    "NeuroDSP: https://neurodsp-tools.github.io/neurodsp/index.html\n",
    "\n"
   ]
  },
  {
   "cell_type": "markdown",
   "metadata": {},
   "source": [
    "## Imports"
   ]
  },
  {
   "cell_type": "code",
   "execution_count": null,
   "metadata": {},
   "outputs": [],
   "source": [
    "from pathlib import Path # For making paths compatible on Windows and Macs\n",
    "\n",
    "import pandas as pd # For working with DataFrames \n",
    "import numpy as np # For ease of array manipulation, stats, and some feature extraction\n",
    "import matplotlib.pyplot as plt # For plotting pretty plots :) \n",
    "import scipy.signal as signal # For calculating PSDs and plotting spectrograms\n",
    "\n",
    "import pyeeg # For pyeeg implemented features\n",
    "from neurodsp.spectral import compute_spectrum # for smoothed PSD computation\n",
    "from neurodsp.timefrequency import amp_by_time, freq_by_time, phase_by_time # For neurodsp features\n"
   ]
  },
  {
   "cell_type": "markdown",
   "metadata": {},
   "source": [
    "## Constants"
   ]
  },
  {
   "cell_type": "code",
   "execution_count": null,
   "metadata": {},
   "outputs": [],
   "source": [
    "eeg_fs = 250 # Data was recorded at 250 Hz\n",
    "eeg_chans = [\"C3\", \"Cz\", \"C4\"] # 10-20 system \n",
    "eog_chans = [\"EOG:ch01\", \"EOG:ch02\", \"EOG:ch03\"] \n",
    "all_chans = eeg_chans + eog_chans\n",
    "event_types = {0:\"left\", 1:\"right\"}"
   ]
  },
  {
   "cell_type": "markdown",
   "metadata": {},
   "source": [
    "## Helper Functions"
   ]
  },
  {
   "cell_type": "code",
   "execution_count": null,
   "metadata": {},
   "outputs": [],
   "source": [
    "# Multiple bar graph plotting\n",
    "def plotMultipleBarGraphs(bars, bar_width, bar_names, group_names, error_values=None, title=None, xlabel=None, ylabel=None): \n",
    "    if len(bar_names) != len(bars):\n",
    "        print(\"group names must be same length as bars\")\n",
    "        return \n",
    "    # Set position of bar on X axis\n",
    "    positions = list()\n",
    "    positions.append(np.arange(len(bars[0])))\n",
    "    for i, bar in enumerate(bars): \n",
    "        if i>0: \n",
    "            positions.append([x + bar_width for x in positions[i-1]])\n",
    "\n",
    "    # Make the plot\n",
    "    for i, pos in enumerate(positions):\n",
    "        plt.bar(pos, bars[i], width=bar_width, label=bar_names[i])\n",
    "    \n",
    "    if error_values is not None: \n",
    "        for i, pos in enumerate(positions):\n",
    "            plt.errorbar(pos, bars[i], yerr=error_values[i], fmt='.k')\n",
    "    \n",
    "    # Add xticks on the middle of the group bars\n",
    "    if xlabel: \n",
    "        plt.xlabel(xlabel)\n",
    "    if ylabel: \n",
    "        plt.ylabel(ylabel)\n",
    "    if title: \n",
    "        plt.title(title)\n",
    "    plt.xticks([r + bar_width for r in range(len(bars[0]))], group_names)\n",
    "\n",
    "    # Create legend & Show graphic\n",
    "    plt.legend()\n",
    "    plt.show()"
   ]
  },
  {
   "cell_type": "markdown",
   "metadata": {},
   "source": [
    "## Load Epoched Data"
   ]
  },
  {
   "cell_type": "code",
   "execution_count": null,
   "metadata": {},
   "outputs": [],
   "source": [
    "# These + epoched_test.pkl are the epochs that will be used in accuracy evaluation\n",
    "epoch_df_filename = Path(\"./data/epoched_train.pkl\")\n",
    "eeg_epoch_full_df = pd.read_pickle(epoch_df_filename)\n",
    "eeg_epoch_full_df.head(2)"
   ]
  },
  {
   "cell_type": "markdown",
   "metadata": {},
   "source": [
    "## PyEEG Features"
   ]
  },
  {
   "cell_type": "code",
   "execution_count": null,
   "metadata": {},
   "outputs": [],
   "source": [
    "# Power Bin extraction\n",
    "import pyeeg\n",
    "def getPowerRatio(eeg_data, binning, eeg_fs=250):\n",
    "    power, power_ratio = pyeeg.bin_power(eeg_data, binning, eeg_fs)\n",
    "    return np.array(power_ratio)\n",
    "def getIntervals(binning): \n",
    "    intervals = list()\n",
    "    for i, val in enumerate(binning[:-1]): \n",
    "        intervals.append((val, binning[i+1]))\n",
    "    return intervals"
   ]
  },
  {
   "cell_type": "markdown",
   "metadata": {},
   "source": [
    "### >> Power Bin\n",
    "Power Bins are very widely used for EEG analysis to reduce PSDs into fewer features for Machine Learning. Spectral Power in the bin normalized by power in all spectral bins. "
   ]
  },
  {
   "cell_type": "code",
   "execution_count": null,
   "metadata": {},
   "outputs": [],
   "source": [
    "# Create a dataframe with the event_type and the power bin information for each trial\n",
    "\n",
    "power_ratios = {'y': []}\n",
    "binning=[0.5, 4, 7, 12, 30]\n",
    "intervals = getIntervals(binning)\n",
    "for i in range(0, len(eeg_epoch_full_df)): \n",
    "    event_type = eeg_epoch_full_df['event_type'][i]\n",
    "    for ch in eeg_chans: \n",
    "        ratios = getPowerRatio(eeg_epoch_full_df[ch][i][:], binning)\n",
    "        for j, interval in enumerate(intervals): \n",
    "            key = ch + \"_\" + str(interval)\n",
    "            if key not in power_ratios: \n",
    "                power_ratios[key] = list()\n",
    "            power_ratios[key].append(ratios[j])\n",
    "    power_ratios['y'].append(eeg_epoch_full_df['event_type'][i])\n",
    "\n",
    "power_ratios_df = pd.DataFrame(power_ratios)\n",
    "power_ratios_df.head(2)"
   ]
  },
  {
   "cell_type": "code",
   "execution_count": null,
   "metadata": {},
   "outputs": [],
   "source": [
    "# Calculate the standard error means between epochs for each channel from the power ratios obtained previously\n",
    "\n",
    "chan_frequency_sems = {}\n",
    "chan_frequency_avgs = {}\n",
    "\n",
    "for event_type in event_types: \n",
    "    for ch in eeg_chans: \n",
    "        for interval in intervals: \n",
    "            key = ch + \"_\" + str(interval)\n",
    "            if key not in chan_frequency_sems: \n",
    "                chan_frequency_sems[key] = list()\n",
    "                chan_frequency_avgs[key] = list()\n",
    "            this_data = power_ratios_df[power_ratios_df['y'] == event_type][key]\n",
    "            sem = np.std(this_data) / np.sqrt(len(this_data)) # Standard Error of Mean calculation\n",
    "            chan_frequency_sems[key].append(sem)\n",
    "            chan_frequency_avgs[key].append(np.mean(this_data))\n",
    "            \n",
    "std_err_df = pd.DataFrame(chan_frequency_sems)\n",
    "avg_df = pd.DataFrame(chan_frequency_avgs)"
   ]
  },
  {
   "cell_type": "code",
   "execution_count": null,
   "metadata": {},
   "outputs": [],
   "source": [
    "# Plot average power ratios for each electrode\n",
    "\n",
    "for chan in eeg_chans: \n",
    "    chan_of_interest = chan\n",
    "    event_power_ratios = {}\n",
    "    event_sems = {}\n",
    "    power_ratios_for_chan = []\n",
    "    sem_for_chan = []\n",
    "    for event_type in event_types: \n",
    "        if event_type not in event_power_ratios: \n",
    "            event_power_ratios[event_type] = []\n",
    "            event_sems[event_type] = []\n",
    "        for interval in intervals: \n",
    "            key = chan_of_interest + \"_\" + str(interval)\n",
    "            event_power_ratios[event_type].append(avg_df[key][event_type])\n",
    "            event_sems[event_type].append(std_err_df[key][event_type])\n",
    "\n",
    "    event_sems_df = pd.DataFrame(event_sems)\n",
    "    event_power_ratios_df = pd.DataFrame(event_power_ratios)\n",
    "    \n",
    "    plt.title(chan_of_interest)\n",
    "    plt.ylim((0, 0.5))\n",
    "    plt.ylabel(\"Power Ratio\")\n",
    "    plotMultipleBarGraphs(np.transpose(np.array(event_power_ratios_df)), 0.15, [0, 1], intervals, error_values=np.transpose(np.array(event_sems_df)))\n",
    "    \n",
    "    "
   ]
  },
  {
   "cell_type": "markdown",
   "metadata": {},
   "source": [
    "### >> Power Band Ratios\n",
    "Band ratios can be helpful because they help characterize the ratio between different power bins within a trial. Here we provide getting theta / beta ratios, but you can try other combinations! "
   ]
  },
  {
   "cell_type": "code",
   "execution_count": null,
   "metadata": {},
   "outputs": [],
   "source": [
    "## Get band ratio features \n",
    "\n",
    "theta_beta_ratios = {} # Keys will be chan_theta_beta\n",
    "# Iterate through rows of power_ratios_df\n",
    "for i, row in power_ratios_df.iterrows(): \n",
    "    for ch in eeg_chans: \n",
    "        curr_key = ch + \"_theta_beta\"\n",
    "        if curr_key not in theta_beta_ratios: \n",
    "            theta_beta_ratios[curr_key] = []\n",
    "            \n",
    "        # Calculate band ratios and append to dictionary\n",
    "        power_bin_theta_key = ch + \"_(4, 7)\"\n",
    "        power_bin_beta_key = ch + \"_(12, 30)\"\n",
    "        theta_val = row[power_bin_theta_key]\n",
    "        beta_val = row[power_bin_beta_key]\n",
    "        theta_beta_ratios[curr_key].append(theta_val / beta_val)\n",
    "\n",
    "# Create df for band ratios: band_ratios_df \n",
    "band_ratios_df = pd.DataFrame(theta_beta_ratios)\n",
    "display(band_ratios_df.head(2))\n",
    "\n",
    "# Concatenate power_ratios_df with band_ratios_df to get full feature df\n",
    "feature_df = pd.concat([power_ratios_df, band_ratios_df], axis=1)\n",
    "display(feature_df.head(2))"
   ]
  },
  {
   "cell_type": "markdown",
   "metadata": {},
   "source": [
    "### Channel Relationships\n",
    "Channel differences and ratios can provide spatial insights! "
   ]
  },
  {
   "cell_type": "code",
   "execution_count": null,
   "metadata": {},
   "outputs": [],
   "source": [
    "## Get channel ratio features\n",
    "\n",
    "# Similar algorithm as Band Ratios, but for each interval\n",
    "C3_C4_differences = {} \n",
    "for i, row in power_ratios_df.iterrows(): \n",
    "    for interval in intervals: \n",
    "        curr_key = \"C3_C4_diff_\" + str(interval)\n",
    "        if curr_key not in C3_C4_differences: \n",
    "            C3_C4_differences[curr_key] = []\n",
    "            \n",
    "        # Calculate band ratios and append to dictionary\n",
    "        power_bin_C3_key = \"C3_\" + str(interval)\n",
    "        power_bin_C4_key = \"C4_\" + str(interval)\n",
    "        \n",
    "        C3_val = row[power_bin_C3_key]\n",
    "        C4_val = row[power_bin_C4_key]\n",
    "        \n",
    "        C3_C4_differences[curr_key].append(C3_val - C4_val)\n",
    "\n",
    "# Create df for band ratios: band_ratios_df \n",
    "C3_C4_differences_df = pd.DataFrame(C3_C4_differences)\n",
    "display(C3_C4_differences_df.head(2))\n",
    "\n",
    "# Concatenate power_ratios_df with band_ratios_df to get full feature df\n",
    "feature_df = pd.concat([power_ratios_df, band_ratios_df, C3_C4_differences_df], axis=1)\n",
    "display(feature_df.head(2))"
   ]
  },
  {
   "cell_type": "markdown",
   "metadata": {},
   "source": [
    "### >> First and Second Difference average and max\n",
    "Helpful for seeing how dramatically changing the recorded values are. "
   ]
  },
  {
   "cell_type": "code",
   "execution_count": null,
   "metadata": {},
   "outputs": [],
   "source": [
    "## Get first and second order diffs\n",
    "# pyeeg.first_order_diff(X) for first order diffs\n",
    "# Write your own second order diff algorithm! "
   ]
  },
  {
   "cell_type": "markdown",
   "metadata": {},
   "source": [
    "### >> Hjorth Parameters\n",
    "Activity: How much high frequency there is (this is just variance) <br>\n",
    "Mobility: Represents standard deviation of power spectrum <br>\n",
    "Complexity: Similarity to pure sine wave <br> \n"
   ]
  },
  {
   "cell_type": "code",
   "execution_count": null,
   "metadata": {},
   "outputs": [],
   "source": [
    "## Get Hjorth Mobility and Complexity\n",
    "# pyeeg.hjorth(X, D=None)"
   ]
  },
  {
   "cell_type": "markdown",
   "metadata": {},
   "source": [
    "### >> Other Stats? \n",
    "What other features can you come up with? The posibilities in analyzing temporal vs frequency vs spatial information with respect to neural data is endless! :) Maybe you'll come up with the next best feature to distinguish these two classes and teach us something new about the brain! "
   ]
  },
  {
   "cell_type": "code",
   "execution_count": null,
   "metadata": {},
   "outputs": [],
   "source": [
    "## Experiment with finding new features using PyEEG, scipy, numpy! "
   ]
  },
  {
   "cell_type": "markdown",
   "metadata": {},
   "source": [
    "## NeuroDSP (i.e. Neuro Digital Signal Processing)\n",
    "These are a subset of methods from the library that do a lot of fancy signal processing math to give you these time series features about the signal. Stats, derivitives, and time series analysis can be applied to this to help you extract even more features from the neural data. Coupling of these features (i.e. having these features synchronize in time) have been studied to represent cross-brain mental functions such as multimodal sensory processing, memory encoding/decoding, and motor activity!\n",
    "<br><br>\n",
    "~ If you want to learn more about how amplitude and phase coupling can be applied to Motor Imagery classification: <br>\n",
    "<b>Amplitude and phase coupling measures for feature extraction in an EEG-based brain–computer interface.</b> Qingguo, W. et al (2007)  https://iopscience.iop.org/article/10.1088/1741-2560/4/2/012/pdf\n",
    "\n",
    "~ NeuroDSP is a project from the Voytek Lab here at UCSD! <br>\n",
    "Cole, S., Donoghue, T., Gao, R., & Voytek, B. (2019). <b>NeuroDSP: A package for\n",
    "neural digital signal processing.</b> Journal of Open Source Software, 4(36), 1272.\n",
    "DOI: 10.21105/joss.01272 https://doi.org/10.21105/joss.01272"
   ]
  },
  {
   "cell_type": "code",
   "execution_count": null,
   "metadata": {},
   "outputs": [],
   "source": [
    "# Let's look at a single channel + trial, at alpha band\n",
    "# Try changing this to different channels or signals :) \n",
    "sig = eeg_epoch_full_df['C3'][0]\n",
    "alpha_range = (7, 12)"
   ]
  },
  {
   "cell_type": "markdown",
   "metadata": {},
   "source": [
    "### >> Amplitude by time (instantaneous amplitude) \n",
    "This is defined as the power of the provided frequency band at a particular point in time. "
   ]
  },
  {
   "cell_type": "code",
   "execution_count": null,
   "metadata": {},
   "outputs": [],
   "source": [
    "# Calculate and plot alpha amplitude over time\n",
    "amp = amp_by_time(sig, eeg_fs, alpha_range)\n",
    "plt.figure(figsize=(15,2))\n",
    "plt.plot(sig, label=\"EEG\")\n",
    "plt.plot(amp, label=\"amp over time\")\n",
    "plt.legend()\n",
    "plt.title(\"Alpha power amplitude over time\")\n",
    "plt.show()"
   ]
  },
  {
   "cell_type": "markdown",
   "metadata": {},
   "source": [
    "### >> Phase by time (instantaneous phase) \n",
    "This is defined as the phase of the signal over time. Phase is the angle of the sine wave that is represented by the frequency range. "
   ]
  },
  {
   "cell_type": "code",
   "execution_count": null,
   "metadata": {},
   "outputs": [],
   "source": [
    "pha = phase_by_time(sig, eeg_fs, alpha_range)\n",
    "plt.figure(figsize=(15,2))\n",
    "plt.plot(sig, label=\"EEG\")\n",
    "plt.plot(pha, label=\"phase over time\")\n",
    "plt.legend()\n",
    "plt.title(\"Instantaneous phase over time\")\n",
    "plt.show()"
   ]
  },
  {
   "cell_type": "markdown",
   "metadata": {},
   "source": [
    "### >> Frequency by time (instantaneous frequency)\n",
    "This is defined as the temporal derivative of instantaneous phase (i.e. how much does the phase change). "
   ]
  },
  {
   "cell_type": "code",
   "execution_count": null,
   "metadata": {},
   "outputs": [],
   "source": [
    "i_f = freq_by_time(sig, eeg_fs, alpha_range)\n",
    "plt.figure(figsize=(15,2))\n",
    "plt.plot(sig, label=\"EEG\")\n",
    "plt.plot(i_f, label=\"freq over time\")\n",
    "plt.legend()\n",
    "plt.title(\"Instantaneous frequency over time\")\n",
    "plt.show()"
   ]
  },
  {
   "cell_type": "markdown",
   "metadata": {},
   "source": [
    "## Now you have many features to put into your Machine Learning algorithm or plot with statistics to find differences between the classes! "
   ]
  }
 ],
 "metadata": {
  "kernelspec": {
   "display_name": "Python 3",
   "language": "python",
   "name": "python3"
  },
  "language_info": {
   "codemirror_mode": {
    "name": "ipython",
    "version": 3
   },
   "file_extension": ".py",
   "mimetype": "text/x-python",
   "name": "python",
   "nbconvert_exporter": "python",
   "pygments_lexer": "ipython3",
   "version": "3.7.9"
  }
 },
 "nbformat": 4,
 "nbformat_minor": 2
}
